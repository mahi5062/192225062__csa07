{
  "nbformat": 4,
  "nbformat_minor": 0,
  "metadata": {
    "colab": {
      "provenance": [],
      "authorship_tag": "ABX9TyPOJbjPLZa9aTOfzhvmmfrz",
      "include_colab_link": true
    },
    "kernelspec": {
      "name": "python3",
      "display_name": "Python 3"
    },
    "language_info": {
      "name": "python"
    }
  },
  "cells": [
    {
      "cell_type": "markdown",
      "metadata": {
        "id": "view-in-github",
        "colab_type": "text"
      },
      "source": [
        "<a href=\"https://colab.research.google.com/github/mahi5062/192225062__csa07/blob/main/cheese_pile_1.ipynb\" target=\"_parent\"><img src=\"https://colab.research.google.com/assets/colab-badge.svg\" alt=\"Open In Colab\"/></a>"
      ]
    },
    {
      "cell_type": "code",
      "execution_count": 1,
      "metadata": {
        "colab": {
          "base_uri": "https://localhost:8080/"
        },
        "id": "cpFpwOJIQ147",
        "outputId": "27ec570f-0cd6-4ff8-fcf3-9bafdf8d800d"
      },
      "outputs": [
        {
          "output_type": "stream",
          "name": "stdout",
          "text": [
            "Value Iteration converged after 1 iterations.\n",
            "Optimal State Values:\n",
            "[[0. 0. 0. 0.]\n",
            " [0. 0. 0. 0.]\n",
            " [0. 0. 0. 0.]]\n"
          ]
        }
      ],
      "source": [
        "import numpy as np\n",
        "\n",
        "# Define the grid-world dimensions and parameters\n",
        "rows, cols = 3, 4\n",
        "discount_factor = 0.9\n",
        "threshold = 0.0001\n",
        "\n",
        "# Define rewards for each cell in the grid\n",
        "# A high reward in one cell signifies the \"pile of cheese\"\n",
        "rewards = np.zeros((rows, cols))\n",
        "rewards[2, 3] = 10  # Cheese pile with a high reward\n",
        "rewards[1, 1] = -1  # Obstacle with a penalty\n",
        "\n",
        "# Define actions: Up, Down, Left, Right\n",
        "actions = {\n",
        "    'up': (-1, 0),\n",
        "    'down': (1, 0),\n",
        "    'left': (0, -1),\n",
        "    'right': (0, 1)\n",
        "}\n",
        "\n",
        "# Initialize state values\n",
        "values = np.zeros((rows, cols))\n",
        "\n",
        "# Check if a move is within bounds of the grid\n",
        "def is_valid_position(x, y):\n",
        "    return 0 <= x < rows and 0 <= y < cols\n",
        "\n",
        "# Bellman update rule: Iteratively improve state values using the Bellman equation\n",
        "def value_iteration():\n",
        "    global values\n",
        "    iteration = 0\n",
        "    while True:\n",
        "        delta = 0\n",
        "        new_values = np.copy(values)\n",
        "\n",
        "        for x in range(rows):\n",
        "            for y in range(cols):\n",
        "                # Skip terminal or obstacle cells\n",
        "                if (x, y) == (2, 3) or (x, y) == (1, 1):\n",
        "                    continue\n",
        "\n",
        "                # Compute the value for each action from the current state (x, y)\n",
        "                action_values = []\n",
        "                for action, (dx, dy) in actions.items():\n",
        "                    nx, ny = x + dx, y + dy\n",
        "                    if is_valid_position(nx, ny):\n",
        "                        action_value = rewards[x, y] + discount_factor * values[nx, ny]\n",
        "                    else:\n",
        "                        # Staying in the same place if moving out of bounds\n",
        "                        action_value = rewards[x, y] + discount_factor * values[x, y]\n",
        "                    action_values.append(action_value)\n",
        "\n",
        "                # Update the state value with the maximum value of actions\n",
        "                new_values[x, y] = max(action_values)\n",
        "\n",
        "                # Calculate the maximum change (delta) for convergence check\n",
        "                delta = max(delta, abs(new_values[x, y] - values[x, y]))\n",
        "\n",
        "        values = new_values\n",
        "        iteration += 1\n",
        "\n",
        "        # Stop if values have converged\n",
        "        if delta < threshold:\n",
        "            break\n",
        "\n",
        "    print(f\"Value Iteration converged after {iteration} iterations.\")\n",
        "    return values\n",
        "\n",
        "# Run the value iteration\n",
        "optimal_values = value_iteration()\n",
        "\n",
        "# Display the optimal state values\n",
        "print(\"Optimal State Values:\")\n",
        "print(optimal_values)\n"
      ]
    }
  ]
}